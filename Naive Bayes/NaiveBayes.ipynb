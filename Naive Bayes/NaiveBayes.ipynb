{
  "nbformat": 4,
  "nbformat_minor": 0,
  "metadata": {
    "colab": {
      "provenance": []
    },
    "kernelspec": {
      "name": "python3",
      "display_name": "Python 3"
    },
    "language_info": {
      "name": "python"
    }
  },
  "cells": [
    {
      "cell_type": "markdown",
      "source": [
        "# Importar bibliotecas"
      ],
      "metadata": {
        "id": "RzEerqWZHYtK"
      }
    },
    {
      "cell_type": "code",
      "source": [
        "import pandas as pd\n",
        "import numpy as np"
      ],
      "metadata": {
        "id": "lmH5AHWOHTOG"
      },
      "execution_count": 49,
      "outputs": []
    },
    {
      "cell_type": "code",
      "source": [
        "from sklearn.naive_bayes import GaussianNB\n",
        "from sklearn.metrics import accuracy_score"
      ],
      "metadata": {
        "id": "TwMNuPY5HuUU"
      },
      "execution_count": 50,
      "outputs": []
    },
    {
      "cell_type": "code",
      "source": [
        "from sklearn.metrics import accuracy_score, confusion_matrix"
      ],
      "metadata": {
        "id": "1A30v5p9Hw3Y"
      },
      "execution_count": 51,
      "outputs": []
    },
    {
      "cell_type": "code",
      "source": [
        "from sklearn.model_selection import train_test_split"
      ],
      "metadata": {
        "id": "MG3kHVQcI4Dg"
      },
      "execution_count": 52,
      "outputs": []
    },
    {
      "cell_type": "code",
      "source": [
        "import seaborn as sns"
      ],
      "metadata": {
        "id": "2E4SYIaRJK0L"
      },
      "execution_count": 53,
      "outputs": []
    },
    {
      "cell_type": "code",
      "source": [
        "import matplotlib.pyplot as plt"
      ],
      "metadata": {
        "id": "EFGUtZM1TqLb"
      },
      "execution_count": 54,
      "outputs": []
    },
    {
      "cell_type": "markdown",
      "source": [
        "# Ler CSV"
      ],
      "metadata": {
        "id": "RrJGuzuwH3Cd"
      }
    },
    {
      "cell_type": "code",
      "source": [
        "from google.colab import drive\n",
        "drive.mount('/content/drive')"
      ],
      "metadata": {
        "colab": {
          "base_uri": "https://localhost:8080/"
        },
        "id": "qA8el5tGIJHn",
        "outputId": "9f50d385-a0a9-490b-f3b9-dff6c37dc872"
      },
      "execution_count": 55,
      "outputs": [
        {
          "output_type": "stream",
          "name": "stdout",
          "text": [
            "Drive already mounted at /content/drive; to attempt to forcibly remount, call drive.mount(\"/content/drive\", force_remount=True).\n"
          ]
        }
      ]
    },
    {
      "cell_type": "code",
      "execution_count": 56,
      "metadata": {
        "id": "vO7WX_s0HCiS"
      },
      "outputs": [],
      "source": [
        "dfrnn = pd.read_csv('/content/drive/MyDrive/Modulo6/BaseBTG.csvsentence_vectors.csv')"
      ]
    },
    {
      "cell_type": "code",
      "source": [
        "dfrnn"
      ],
      "metadata": {
        "colab": {
          "base_uri": "https://localhost:8080/",
          "height": 522
        },
        "id": "YkZZ9ferHOkb",
        "outputId": "3937b7df-3891-477c-95f2-36f2f1abc531"
      },
      "execution_count": 57,
      "outputs": [
        {
          "output_type": "execute_result",
          "data": {
            "text/plain": [
              "                                                  Frase    Vetor1    Vetor2  \\\n",
              "0     ['quer', 'visualizar', 'saldo', 'todas', 'cont... -0.327200  0.405911   \n",
              "1     ['precos', 'excelentes', 'hora', 'investir', '... -0.160159  0.212916   \n",
              "2     ['onde', 'consigo', 'realizar', 'simulacao', '... -0.215426  0.289502   \n",
              "3     ['taxa', 'adm', 'alta', 'ainda', 'taxa', 'perf... -0.283998  0.374308   \n",
              "4     ['fire', 'faca', 'parte', 'clube', 'vantagens'... -0.204356  0.251492   \n",
              "...                                                 ...       ...       ...   \n",
              "4026  ['noite', 'encontros', 'conhecimento', 'onde',... -0.232641  0.314391   \n",
              "4027  ['erros', 'financeiros', 'eliminar', 'antes', ... -0.377352  0.495599   \n",
              "4028  ['grato', 'todo', 'esforco', 'voce', 'rendeu',... -0.244189  0.338319   \n",
              "4029  ['backhand_index_pointing_rightguadakan', 'che... -0.145045  0.193842   \n",
              "4030  ['btgpactual', 'porque', 'morning', 'call', 'n... -0.329011  0.436228   \n",
              "\n",
              "        Vetor3    Vetor4    Vetor5    Vetor6    Vetor7    Vetor8    Vetor9  \\\n",
              "0     0.311722  0.127294  0.116280 -0.553932  0.173491  1.114308 -0.489034   \n",
              "1     0.189038 -0.013707  0.038440 -0.279692  0.044877  0.446087 -0.094030   \n",
              "2     0.246845 -0.016085  0.057726 -0.382279  0.054546  0.590855 -0.120499   \n",
              "3     0.370961 -0.001956  0.095912 -0.515131  0.123847  0.868959 -0.165838   \n",
              "4     0.243784  0.013492  0.037201 -0.343080  0.089412  0.571961 -0.145648   \n",
              "...        ...       ...       ...       ...       ...       ...       ...   \n",
              "4026  0.272312 -0.026808  0.055646 -0.410595  0.059567  0.642099 -0.126797   \n",
              "4027  0.345589  0.146776  0.143164 -0.699373  0.188399  1.271856 -0.546306   \n",
              "4028  0.284006 -0.039514  0.070321 -0.442563  0.051534  0.680711 -0.120037   \n",
              "4029  0.167018 -0.001909  0.032079 -0.254444  0.047387  0.407892 -0.102315   \n",
              "4030  0.399689 -0.020099  0.095347 -0.594563  0.099494  0.922818 -0.170187   \n",
              "\n",
              "      ...   Vetor42   Vetor43   Vetor44   Vetor45   Vetor46   Vetor47  \\\n",
              "0     ... -0.442531 -0.032067  0.201052  0.352574 -0.428104 -0.667955   \n",
              "1     ... -0.160771 -0.062100  0.049718  0.185117 -0.198394 -0.366286   \n",
              "2     ... -0.211942 -0.081096  0.065853  0.243027 -0.270421 -0.495752   \n",
              "3     ... -0.303832 -0.128369  0.075163  0.349559 -0.364945 -0.654165   \n",
              "4     ... -0.228462 -0.096629  0.087635  0.237198 -0.259357 -0.484709   \n",
              "...   ...       ...       ...       ...       ...       ...       ...   \n",
              "4026  ... -0.234917 -0.095607  0.072642  0.269006 -0.289531 -0.548837   \n",
              "4027  ... -0.524392 -0.010737  0.220825  0.412966 -0.509596 -0.769547   \n",
              "4028  ... -0.238724 -0.090154  0.062620  0.285839 -0.302342 -0.567720   \n",
              "4029  ... -0.156446 -0.054958  0.054776  0.163896 -0.185619 -0.339818   \n",
              "4030  ... -0.340460 -0.128271  0.088211  0.393264 -0.418698 -0.766991   \n",
              "\n",
              "       Vetor48   Vetor49   Vetor50  sentimento  \n",
              "0     0.043698  0.253030  0.347920           1  \n",
              "1    -0.001400  0.107181  0.132446           0  \n",
              "2     0.009569  0.149597  0.175471           0  \n",
              "3    -0.015403  0.181647  0.280221           0  \n",
              "4    -0.005115  0.133282  0.161880           0  \n",
              "...        ...       ...       ...         ...  \n",
              "4026  0.000723  0.157422  0.187002           0  \n",
              "4027  0.120072  0.375267  0.377073           0  \n",
              "4028  0.004311  0.168621  0.204494           0  \n",
              "4029  0.005518  0.101319  0.117867           0  \n",
              "4030  0.012581  0.226101  0.267869           1  \n",
              "\n",
              "[4031 rows x 52 columns]"
            ],
            "text/html": [
              "\n",
              "  <div id=\"df-9fb17956-96ce-4ce9-8096-0dd74307b364\">\n",
              "    <div class=\"colab-df-container\">\n",
              "      <div>\n",
              "<style scoped>\n",
              "    .dataframe tbody tr th:only-of-type {\n",
              "        vertical-align: middle;\n",
              "    }\n",
              "\n",
              "    .dataframe tbody tr th {\n",
              "        vertical-align: top;\n",
              "    }\n",
              "\n",
              "    .dataframe thead th {\n",
              "        text-align: right;\n",
              "    }\n",
              "</style>\n",
              "<table border=\"1\" class=\"dataframe\">\n",
              "  <thead>\n",
              "    <tr style=\"text-align: right;\">\n",
              "      <th></th>\n",
              "      <th>Frase</th>\n",
              "      <th>Vetor1</th>\n",
              "      <th>Vetor2</th>\n",
              "      <th>Vetor3</th>\n",
              "      <th>Vetor4</th>\n",
              "      <th>Vetor5</th>\n",
              "      <th>Vetor6</th>\n",
              "      <th>Vetor7</th>\n",
              "      <th>Vetor8</th>\n",
              "      <th>Vetor9</th>\n",
              "      <th>...</th>\n",
              "      <th>Vetor42</th>\n",
              "      <th>Vetor43</th>\n",
              "      <th>Vetor44</th>\n",
              "      <th>Vetor45</th>\n",
              "      <th>Vetor46</th>\n",
              "      <th>Vetor47</th>\n",
              "      <th>Vetor48</th>\n",
              "      <th>Vetor49</th>\n",
              "      <th>Vetor50</th>\n",
              "      <th>sentimento</th>\n",
              "    </tr>\n",
              "  </thead>\n",
              "  <tbody>\n",
              "    <tr>\n",
              "      <th>0</th>\n",
              "      <td>['quer', 'visualizar', 'saldo', 'todas', 'cont...</td>\n",
              "      <td>-0.327200</td>\n",
              "      <td>0.405911</td>\n",
              "      <td>0.311722</td>\n",
              "      <td>0.127294</td>\n",
              "      <td>0.116280</td>\n",
              "      <td>-0.553932</td>\n",
              "      <td>0.173491</td>\n",
              "      <td>1.114308</td>\n",
              "      <td>-0.489034</td>\n",
              "      <td>...</td>\n",
              "      <td>-0.442531</td>\n",
              "      <td>-0.032067</td>\n",
              "      <td>0.201052</td>\n",
              "      <td>0.352574</td>\n",
              "      <td>-0.428104</td>\n",
              "      <td>-0.667955</td>\n",
              "      <td>0.043698</td>\n",
              "      <td>0.253030</td>\n",
              "      <td>0.347920</td>\n",
              "      <td>1</td>\n",
              "    </tr>\n",
              "    <tr>\n",
              "      <th>1</th>\n",
              "      <td>['precos', 'excelentes', 'hora', 'investir', '...</td>\n",
              "      <td>-0.160159</td>\n",
              "      <td>0.212916</td>\n",
              "      <td>0.189038</td>\n",
              "      <td>-0.013707</td>\n",
              "      <td>0.038440</td>\n",
              "      <td>-0.279692</td>\n",
              "      <td>0.044877</td>\n",
              "      <td>0.446087</td>\n",
              "      <td>-0.094030</td>\n",
              "      <td>...</td>\n",
              "      <td>-0.160771</td>\n",
              "      <td>-0.062100</td>\n",
              "      <td>0.049718</td>\n",
              "      <td>0.185117</td>\n",
              "      <td>-0.198394</td>\n",
              "      <td>-0.366286</td>\n",
              "      <td>-0.001400</td>\n",
              "      <td>0.107181</td>\n",
              "      <td>0.132446</td>\n",
              "      <td>0</td>\n",
              "    </tr>\n",
              "    <tr>\n",
              "      <th>2</th>\n",
              "      <td>['onde', 'consigo', 'realizar', 'simulacao', '...</td>\n",
              "      <td>-0.215426</td>\n",
              "      <td>0.289502</td>\n",
              "      <td>0.246845</td>\n",
              "      <td>-0.016085</td>\n",
              "      <td>0.057726</td>\n",
              "      <td>-0.382279</td>\n",
              "      <td>0.054546</td>\n",
              "      <td>0.590855</td>\n",
              "      <td>-0.120499</td>\n",
              "      <td>...</td>\n",
              "      <td>-0.211942</td>\n",
              "      <td>-0.081096</td>\n",
              "      <td>0.065853</td>\n",
              "      <td>0.243027</td>\n",
              "      <td>-0.270421</td>\n",
              "      <td>-0.495752</td>\n",
              "      <td>0.009569</td>\n",
              "      <td>0.149597</td>\n",
              "      <td>0.175471</td>\n",
              "      <td>0</td>\n",
              "    </tr>\n",
              "    <tr>\n",
              "      <th>3</th>\n",
              "      <td>['taxa', 'adm', 'alta', 'ainda', 'taxa', 'perf...</td>\n",
              "      <td>-0.283998</td>\n",
              "      <td>0.374308</td>\n",
              "      <td>0.370961</td>\n",
              "      <td>-0.001956</td>\n",
              "      <td>0.095912</td>\n",
              "      <td>-0.515131</td>\n",
              "      <td>0.123847</td>\n",
              "      <td>0.868959</td>\n",
              "      <td>-0.165838</td>\n",
              "      <td>...</td>\n",
              "      <td>-0.303832</td>\n",
              "      <td>-0.128369</td>\n",
              "      <td>0.075163</td>\n",
              "      <td>0.349559</td>\n",
              "      <td>-0.364945</td>\n",
              "      <td>-0.654165</td>\n",
              "      <td>-0.015403</td>\n",
              "      <td>0.181647</td>\n",
              "      <td>0.280221</td>\n",
              "      <td>0</td>\n",
              "    </tr>\n",
              "    <tr>\n",
              "      <th>4</th>\n",
              "      <td>['fire', 'faca', 'parte', 'clube', 'vantagens'...</td>\n",
              "      <td>-0.204356</td>\n",
              "      <td>0.251492</td>\n",
              "      <td>0.243784</td>\n",
              "      <td>0.013492</td>\n",
              "      <td>0.037201</td>\n",
              "      <td>-0.343080</td>\n",
              "      <td>0.089412</td>\n",
              "      <td>0.571961</td>\n",
              "      <td>-0.145648</td>\n",
              "      <td>...</td>\n",
              "      <td>-0.228462</td>\n",
              "      <td>-0.096629</td>\n",
              "      <td>0.087635</td>\n",
              "      <td>0.237198</td>\n",
              "      <td>-0.259357</td>\n",
              "      <td>-0.484709</td>\n",
              "      <td>-0.005115</td>\n",
              "      <td>0.133282</td>\n",
              "      <td>0.161880</td>\n",
              "      <td>0</td>\n",
              "    </tr>\n",
              "    <tr>\n",
              "      <th>...</th>\n",
              "      <td>...</td>\n",
              "      <td>...</td>\n",
              "      <td>...</td>\n",
              "      <td>...</td>\n",
              "      <td>...</td>\n",
              "      <td>...</td>\n",
              "      <td>...</td>\n",
              "      <td>...</td>\n",
              "      <td>...</td>\n",
              "      <td>...</td>\n",
              "      <td>...</td>\n",
              "      <td>...</td>\n",
              "      <td>...</td>\n",
              "      <td>...</td>\n",
              "      <td>...</td>\n",
              "      <td>...</td>\n",
              "      <td>...</td>\n",
              "      <td>...</td>\n",
              "      <td>...</td>\n",
              "      <td>...</td>\n",
              "      <td>...</td>\n",
              "    </tr>\n",
              "    <tr>\n",
              "      <th>4026</th>\n",
              "      <td>['noite', 'encontros', 'conhecimento', 'onde',...</td>\n",
              "      <td>-0.232641</td>\n",
              "      <td>0.314391</td>\n",
              "      <td>0.272312</td>\n",
              "      <td>-0.026808</td>\n",
              "      <td>0.055646</td>\n",
              "      <td>-0.410595</td>\n",
              "      <td>0.059567</td>\n",
              "      <td>0.642099</td>\n",
              "      <td>-0.126797</td>\n",
              "      <td>...</td>\n",
              "      <td>-0.234917</td>\n",
              "      <td>-0.095607</td>\n",
              "      <td>0.072642</td>\n",
              "      <td>0.269006</td>\n",
              "      <td>-0.289531</td>\n",
              "      <td>-0.548837</td>\n",
              "      <td>0.000723</td>\n",
              "      <td>0.157422</td>\n",
              "      <td>0.187002</td>\n",
              "      <td>0</td>\n",
              "    </tr>\n",
              "    <tr>\n",
              "      <th>4027</th>\n",
              "      <td>['erros', 'financeiros', 'eliminar', 'antes', ...</td>\n",
              "      <td>-0.377352</td>\n",
              "      <td>0.495599</td>\n",
              "      <td>0.345589</td>\n",
              "      <td>0.146776</td>\n",
              "      <td>0.143164</td>\n",
              "      <td>-0.699373</td>\n",
              "      <td>0.188399</td>\n",
              "      <td>1.271856</td>\n",
              "      <td>-0.546306</td>\n",
              "      <td>...</td>\n",
              "      <td>-0.524392</td>\n",
              "      <td>-0.010737</td>\n",
              "      <td>0.220825</td>\n",
              "      <td>0.412966</td>\n",
              "      <td>-0.509596</td>\n",
              "      <td>-0.769547</td>\n",
              "      <td>0.120072</td>\n",
              "      <td>0.375267</td>\n",
              "      <td>0.377073</td>\n",
              "      <td>0</td>\n",
              "    </tr>\n",
              "    <tr>\n",
              "      <th>4028</th>\n",
              "      <td>['grato', 'todo', 'esforco', 'voce', 'rendeu',...</td>\n",
              "      <td>-0.244189</td>\n",
              "      <td>0.338319</td>\n",
              "      <td>0.284006</td>\n",
              "      <td>-0.039514</td>\n",
              "      <td>0.070321</td>\n",
              "      <td>-0.442563</td>\n",
              "      <td>0.051534</td>\n",
              "      <td>0.680711</td>\n",
              "      <td>-0.120037</td>\n",
              "      <td>...</td>\n",
              "      <td>-0.238724</td>\n",
              "      <td>-0.090154</td>\n",
              "      <td>0.062620</td>\n",
              "      <td>0.285839</td>\n",
              "      <td>-0.302342</td>\n",
              "      <td>-0.567720</td>\n",
              "      <td>0.004311</td>\n",
              "      <td>0.168621</td>\n",
              "      <td>0.204494</td>\n",
              "      <td>0</td>\n",
              "    </tr>\n",
              "    <tr>\n",
              "      <th>4029</th>\n",
              "      <td>['backhand_index_pointing_rightguadakan', 'che...</td>\n",
              "      <td>-0.145045</td>\n",
              "      <td>0.193842</td>\n",
              "      <td>0.167018</td>\n",
              "      <td>-0.001909</td>\n",
              "      <td>0.032079</td>\n",
              "      <td>-0.254444</td>\n",
              "      <td>0.047387</td>\n",
              "      <td>0.407892</td>\n",
              "      <td>-0.102315</td>\n",
              "      <td>...</td>\n",
              "      <td>-0.156446</td>\n",
              "      <td>-0.054958</td>\n",
              "      <td>0.054776</td>\n",
              "      <td>0.163896</td>\n",
              "      <td>-0.185619</td>\n",
              "      <td>-0.339818</td>\n",
              "      <td>0.005518</td>\n",
              "      <td>0.101319</td>\n",
              "      <td>0.117867</td>\n",
              "      <td>0</td>\n",
              "    </tr>\n",
              "    <tr>\n",
              "      <th>4030</th>\n",
              "      <td>['btgpactual', 'porque', 'morning', 'call', 'n...</td>\n",
              "      <td>-0.329011</td>\n",
              "      <td>0.436228</td>\n",
              "      <td>0.399689</td>\n",
              "      <td>-0.020099</td>\n",
              "      <td>0.095347</td>\n",
              "      <td>-0.594563</td>\n",
              "      <td>0.099494</td>\n",
              "      <td>0.922818</td>\n",
              "      <td>-0.170187</td>\n",
              "      <td>...</td>\n",
              "      <td>-0.340460</td>\n",
              "      <td>-0.128271</td>\n",
              "      <td>0.088211</td>\n",
              "      <td>0.393264</td>\n",
              "      <td>-0.418698</td>\n",
              "      <td>-0.766991</td>\n",
              "      <td>0.012581</td>\n",
              "      <td>0.226101</td>\n",
              "      <td>0.267869</td>\n",
              "      <td>1</td>\n",
              "    </tr>\n",
              "  </tbody>\n",
              "</table>\n",
              "<p>4031 rows × 52 columns</p>\n",
              "</div>\n",
              "      <button class=\"colab-df-convert\" onclick=\"convertToInteractive('df-9fb17956-96ce-4ce9-8096-0dd74307b364')\"\n",
              "              title=\"Convert this dataframe to an interactive table.\"\n",
              "              style=\"display:none;\">\n",
              "        \n",
              "  <svg xmlns=\"http://www.w3.org/2000/svg\" height=\"24px\"viewBox=\"0 0 24 24\"\n",
              "       width=\"24px\">\n",
              "    <path d=\"M0 0h24v24H0V0z\" fill=\"none\"/>\n",
              "    <path d=\"M18.56 5.44l.94 2.06.94-2.06 2.06-.94-2.06-.94-.94-2.06-.94 2.06-2.06.94zm-11 1L8.5 8.5l.94-2.06 2.06-.94-2.06-.94L8.5 2.5l-.94 2.06-2.06.94zm10 10l.94 2.06.94-2.06 2.06-.94-2.06-.94-.94-2.06-.94 2.06-2.06.94z\"/><path d=\"M17.41 7.96l-1.37-1.37c-.4-.4-.92-.59-1.43-.59-.52 0-1.04.2-1.43.59L10.3 9.45l-7.72 7.72c-.78.78-.78 2.05 0 2.83L4 21.41c.39.39.9.59 1.41.59.51 0 1.02-.2 1.41-.59l7.78-7.78 2.81-2.81c.8-.78.8-2.07 0-2.86zM5.41 20L4 18.59l7.72-7.72 1.47 1.35L5.41 20z\"/>\n",
              "  </svg>\n",
              "      </button>\n",
              "      \n",
              "  <style>\n",
              "    .colab-df-container {\n",
              "      display:flex;\n",
              "      flex-wrap:wrap;\n",
              "      gap: 12px;\n",
              "    }\n",
              "\n",
              "    .colab-df-convert {\n",
              "      background-color: #E8F0FE;\n",
              "      border: none;\n",
              "      border-radius: 50%;\n",
              "      cursor: pointer;\n",
              "      display: none;\n",
              "      fill: #1967D2;\n",
              "      height: 32px;\n",
              "      padding: 0 0 0 0;\n",
              "      width: 32px;\n",
              "    }\n",
              "\n",
              "    .colab-df-convert:hover {\n",
              "      background-color: #E2EBFA;\n",
              "      box-shadow: 0px 1px 2px rgba(60, 64, 67, 0.3), 0px 1px 3px 1px rgba(60, 64, 67, 0.15);\n",
              "      fill: #174EA6;\n",
              "    }\n",
              "\n",
              "    [theme=dark] .colab-df-convert {\n",
              "      background-color: #3B4455;\n",
              "      fill: #D2E3FC;\n",
              "    }\n",
              "\n",
              "    [theme=dark] .colab-df-convert:hover {\n",
              "      background-color: #434B5C;\n",
              "      box-shadow: 0px 1px 3px 1px rgba(0, 0, 0, 0.15);\n",
              "      filter: drop-shadow(0px 1px 2px rgba(0, 0, 0, 0.3));\n",
              "      fill: #FFFFFF;\n",
              "    }\n",
              "  </style>\n",
              "\n",
              "      <script>\n",
              "        const buttonEl =\n",
              "          document.querySelector('#df-9fb17956-96ce-4ce9-8096-0dd74307b364 button.colab-df-convert');\n",
              "        buttonEl.style.display =\n",
              "          google.colab.kernel.accessAllowed ? 'block' : 'none';\n",
              "\n",
              "        async function convertToInteractive(key) {\n",
              "          const element = document.querySelector('#df-9fb17956-96ce-4ce9-8096-0dd74307b364');\n",
              "          const dataTable =\n",
              "            await google.colab.kernel.invokeFunction('convertToInteractive',\n",
              "                                                     [key], {});\n",
              "          if (!dataTable) return;\n",
              "\n",
              "          const docLinkHtml = 'Like what you see? Visit the ' +\n",
              "            '<a target=\"_blank\" href=https://colab.research.google.com/notebooks/data_table.ipynb>data table notebook</a>'\n",
              "            + ' to learn more about interactive tables.';\n",
              "          element.innerHTML = '';\n",
              "          dataTable['output_type'] = 'display_data';\n",
              "          await google.colab.output.renderOutput(dataTable, element);\n",
              "          const docLink = document.createElement('div');\n",
              "          docLink.innerHTML = docLinkHtml;\n",
              "          element.appendChild(docLink);\n",
              "        }\n",
              "      </script>\n",
              "    </div>\n",
              "  </div>\n",
              "  "
            ]
          },
          "metadata": {},
          "execution_count": 57
        }
      ]
    },
    {
      "cell_type": "markdown",
      "source": [
        "# Naive Bayes"
      ],
      "metadata": {
        "id": "YohqVYhwHpM9"
      }
    },
    {
      "cell_type": "code",
      "source": [
        "X = np.array(dfrnn.drop(['Frase', 'sentimento'], axis=1))\n",
        "y = np.array(dfrnn['sentimento'])\n",
        "\n",
        "#Divida o DataFrame em conjuntos de treinamento e teste\n",
        "X_train, X_test, y_train, y_test = train_test_split(X, y, test_size=0.2, random_state=42)\n",
        "X_train, X_val, y_train, y_val = train_test_split(X_train, y_train, test_size=0.2, random_state=42)\n",
        "\n",
        "#Crie uma instância do classificador Naive Bayes Gaussiano\n",
        "gnb = GaussianNB()\n",
        "\n",
        "#Treine o classificador utilizando os dados de treinamento\n",
        "gnb.fit(X_train, y_train)\n",
        "\n",
        "#Faça previsões nos dados de teste\n",
        "y_pred = gnb.predict(X_test)\n",
        "\n",
        "#Calcule a precisão do classificador\n",
        "accuracy = accuracy_score(y_test, y_pred)\n",
        "print(\"Test Accuracy:\", accuracy)"
      ],
      "metadata": {
        "colab": {
          "base_uri": "https://localhost:8080/"
        },
        "id": "p35hjtbrHrRx",
        "outputId": "ffe5ef8e-71ba-420b-9a5b-c38fd103dcc6"
      },
      "execution_count": 58,
      "outputs": [
        {
          "output_type": "stream",
          "name": "stdout",
          "text": [
            "Test Accuracy: 0.4758364312267658\n"
          ]
        }
      ]
    },
    {
      "cell_type": "code",
      "source": [
        "#Crie a matriz de confusão\n",
        "from sklearn.metrics import accuracy_score, confusion_matrix\n",
        "\n",
        "confusion = confusion_matrix(y_test, y_pred)\n",
        "print(\"Confusion Matrix:\")\n",
        "print(confusion_mat)"
      ],
      "metadata": {
        "colab": {
          "base_uri": "https://localhost:8080/"
        },
        "id": "s6_We2vfH6i9",
        "outputId": "16ac5228-3fbf-46ea-bc18-f8286ec76a28"
      },
      "execution_count": 59,
      "outputs": [
        {
          "output_type": "stream",
          "name": "stdout",
          "text": [
            "Confusion Matrix:\n",
            "[[250 389]\n",
            " [ 34 134]]\n"
          ]
        }
      ]
    },
    {
      "cell_type": "code",
      "source": [
        "# Plotar a matriz de confusão com seaborn\n",
        "import seaborn as sns\n",
        "sns.heatmap(confusion, annot=True, cmap='Blues', fmt='d')\n",
        "plt.xlabel('Predicted label')\n",
        "plt.ylabel('True label')\n",
        "plt.title('Matriz de Confusão')\n",
        "plt.show()"
      ],
      "metadata": {
        "colab": {
          "base_uri": "https://localhost:8080/",
          "height": 472
        },
        "id": "xcmN_DEXH8Nc",
        "outputId": "0523ec45-4a1c-4fd1-fcea-cd6e57e62546"
      },
      "execution_count": 60,
      "outputs": [
        {
          "output_type": "display_data",
          "data": {
            "text/plain": [
              "<Figure size 640x480 with 2 Axes>"
            ],
            "image/png": "[encoded data removed]"
          },
          "metadata": {}
        }
      ]
    }
  ]
}