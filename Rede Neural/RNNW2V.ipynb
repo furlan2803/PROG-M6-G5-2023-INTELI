{
  "nbformat": 4,
  "nbformat_minor": 0,
  "metadata": {
    "colab": {
      "provenance": []
    },
    "kernelspec": {
      "name": "python3",
      "display_name": "Python 3"
    },
    "language_info": {
      "name": "python"
    }
  },
  "cells": [
    {
      "cell_type": "code",
      "source": [
        "from google.colab import drive\n",
        "drive.mount('/content/drive')"
      ],
      "metadata": {
        "colab": {
          "base_uri": "https://localhost:8080/"
        },
        "id": "DiDqxdso-HaJ",
        "outputId": "ce0236ee-7972-4541-d9c6-20f2ba513893"
      },
      "execution_count": 5,
      "outputs": [
        {
          "output_type": "stream",
          "name": "stdout",
          "text": [
            "Mounted at /content/drive\n"
          ]
        }
      ]
    },
    {
      "cell_type": "code",
      "execution_count": 6,
      "metadata": {
        "colab": {
          "base_uri": "https://localhost:8080/"
        },
        "id": "EeZ25RlG9HHF",
        "outputId": "493323d0-aa3b-4dc6-86a9-dfd15e6ca3aa"
      },
      "outputs": [
        {
          "output_type": "stream",
          "name": "stderr",
          "text": [
            "[nltk_data] Downloading package stopwords to /root/nltk_data...\n",
            "[nltk_data]   Package stopwords is already up-to-date!\n",
            "[nltk_data] Downloading package punkt to /root/nltk_data...\n",
            "[nltk_data]   Package punkt is already up-to-date!\n",
            "[nltk_data] Downloading package wordnet to /root/nltk_data...\n",
            "[nltk_data]   Package wordnet is already up-to-date!\n"
          ]
        }
      ],
      "source": [
        "import tensorflow as tf\n",
        "from sklearn.model_selection import train_test_split\n",
        "import pandas as pd\n",
        "from textblob import TextBlob\n",
        "import nltk\n",
        "from nltk.corpus import stopwords\n",
        "nltk.download('stopwords')\n",
        "nltk.download('punkt')\n",
        "from nltk.stem import WordNetLemmatizer\n",
        "from nltk.stem.snowball import SnowballStemmer\n",
        "nltk.download('wordnet')\n",
        "import re\n",
        "import matplotlib.pyplot as plt\n",
        "\n",
        "\n",
        "import numpy as np\n",
        "from sklearn.feature_extraction.text import CountVectorizer\n",
        "from keras.preprocessing.text import Tokenizer\n",
        "from nltk.tokenize import word_tokenize\n",
        "from sklearn.preprocessing import StandardScaler\n",
        "\n",
        "dfrnn = pd.read_csv('/content/drive/MyDrive/BaseDadosBTGM6/sentence_vectors.csv')"
      ]
    },
    {
      "cell_type": "code",
      "source": [
        "import tensorflow as tf\n",
        "from sklearn.model_selection import train_test_split\n",
        "from sklearn.utils import resample\n",
        "\n",
        "# Balanceamento dos dados\n",
        "df_positive = dfrnn[dfrnn['sentimento'] == 0]\n",
        "df_negative = dfrnn[dfrnn['sentimento'] == 1]\n",
        "\n",
        "df_positive_resampled = resample(df_positive, replace=True, n_samples=len(df_negative), random_state=42)\n",
        "\n",
        "dfrnn_balanced = pd.concat([df_positive_resampled, df_negative])\n",
        "\n",
        "# Inverter a codificação das classes\n",
        "dfrnn_balanced['sentimento'] = dfrnn_balanced['sentimento'].map({1: 0, 0: 1})\n",
        "\n",
        "# Separando os dados em X e y (balanceados)\n",
        "X = np.array(dfrnn_balanced.drop(['Frase', 'sentimento'], axis=1))\n",
        "y = np.array(dfrnn_balanced['sentimento'])\n",
        "\n",
        "# Divisão dos dados em treinamento, teste e validação\n",
        "X_train, X_test, y_train, y_test = train_test_split(X, y, test_size=0.2, random_state=42)\n",
        "X_train, X_val, y_train, y_val = train_test_split(X_train, y_train, test_size=0.2, random_state=42)\n",
        "\n",
        "# Normalização dos dados\n",
        "X_train_mean = X_train.mean(axis=0)\n",
        "X_train_std = X_train.std(axis=0)\n",
        "X_train = (X_train - X_train_mean) / X_train_std\n",
        "X_val = (X_val - X_train_mean) / X_train_std\n",
        "X_test = (X_test - X_train_mean) / X_train_std\n",
        "\n",
        "# Definição dos hiperparâmetros\n",
        "num_epochs = 20\n",
        "batch_size = 64\n",
        "learning_rate = 0.001\n",
        "num_hidden_units = 128\n",
        "\n",
        "# Criação do modelo\n",
        "model = tf.keras.Sequential([\n",
        "    tf.keras.layers.InputLayer(input_shape=(X_train.shape[1],)),\n",
        "    tf.keras.layers.Dense(units=num_hidden_units, activation='relu'),\n",
        "    tf.keras.layers.Dense(units=1, activation='sigmoid')\n",
        "])\n",
        "\n",
        "# Compilação do modelo\n",
        "model.compile(optimizer=tf.optimizers.Adam(learning_rate=learning_rate),\n",
        "              loss=tf.losses.BinaryCrossentropy(),\n",
        "              metrics=[tf.metrics.BinaryAccuracy()])\n",
        "\n",
        "# Treinamento do modelo\n",
        "model.fit(X_train, y_train, epochs=num_epochs, batch_size=batch_size,\n",
        "          validation_data=(X_val, y_val))\n",
        "\n",
        "# Avaliação do modelo\n",
        "loss, accuracy = model.evaluate(X_test, y_test)\n",
        "print('Test Loss:', loss)\n",
        "print('Test Accuracy:', accuracy)\n"
      ],
      "metadata": {
        "colab": {
          "base_uri": "https://localhost:8080/"
        },
        "id": "VEUpomw9DwKV",
        "outputId": "ceca1020-2a90-4981-b158-11e2f71024b7"
      },
      "execution_count": 25,
      "outputs": [
        {
          "output_type": "stream",
          "name": "stdout",
          "text": [
            "Epoch 1/20\n",
            "17/17 [==============================] - 1s 22ms/step - loss: 0.6746 - binary_accuracy: 0.6127 - val_loss: 0.6348 - val_binary_accuracy: 0.6453\n",
            "Epoch 2/20\n",
            "17/17 [==============================] - 0s 8ms/step - loss: 0.6075 - binary_accuracy: 0.6799 - val_loss: 0.6185 - val_binary_accuracy: 0.6566\n",
            "Epoch 3/20\n",
            "17/17 [==============================] - 0s 7ms/step - loss: 0.6012 - binary_accuracy: 0.6970 - val_loss: 0.6093 - val_binary_accuracy: 0.6642\n",
            "Epoch 4/20\n",
            "17/17 [==============================] - 0s 8ms/step - loss: 0.5882 - binary_accuracy: 0.7150 - val_loss: 0.6029 - val_binary_accuracy: 0.6642\n",
            "Epoch 5/20\n",
            "17/17 [==============================] - 0s 19ms/step - loss: 0.5842 - binary_accuracy: 0.7131 - val_loss: 0.5997 - val_binary_accuracy: 0.6679\n",
            "Epoch 6/20\n",
            "17/17 [==============================] - 0s 20ms/step - loss: 0.5802 - binary_accuracy: 0.7188 - val_loss: 0.5920 - val_binary_accuracy: 0.6792\n",
            "Epoch 7/20\n",
            "17/17 [==============================] - 0s 18ms/step - loss: 0.5739 - binary_accuracy: 0.7235 - val_loss: 0.5978 - val_binary_accuracy: 0.6566\n",
            "Epoch 8/20\n",
            "17/17 [==============================] - 0s 13ms/step - loss: 0.5746 - binary_accuracy: 0.7169 - val_loss: 0.5790 - val_binary_accuracy: 0.6868\n",
            "Epoch 9/20\n",
            "17/17 [==============================] - 0s 5ms/step - loss: 0.5634 - binary_accuracy: 0.7263 - val_loss: 0.6025 - val_binary_accuracy: 0.6566\n",
            "Epoch 10/20\n",
            "17/17 [==============================] - 0s 5ms/step - loss: 0.5652 - binary_accuracy: 0.7150 - val_loss: 0.5801 - val_binary_accuracy: 0.6830\n",
            "Epoch 11/20\n",
            "17/17 [==============================] - 0s 4ms/step - loss: 0.5588 - binary_accuracy: 0.7386 - val_loss: 0.5902 - val_binary_accuracy: 0.6717\n",
            "Epoch 12/20\n",
            "17/17 [==============================] - 0s 4ms/step - loss: 0.5631 - binary_accuracy: 0.7178 - val_loss: 0.5711 - val_binary_accuracy: 0.7057\n",
            "Epoch 13/20\n",
            "17/17 [==============================] - 0s 5ms/step - loss: 0.5541 - binary_accuracy: 0.7377 - val_loss: 0.5949 - val_binary_accuracy: 0.6679\n",
            "Epoch 14/20\n",
            "17/17 [==============================] - 0s 5ms/step - loss: 0.5532 - binary_accuracy: 0.7367 - val_loss: 0.5741 - val_binary_accuracy: 0.6981\n",
            "Epoch 15/20\n",
            "17/17 [==============================] - 0s 4ms/step - loss: 0.5471 - binary_accuracy: 0.7254 - val_loss: 0.5820 - val_binary_accuracy: 0.6868\n",
            "Epoch 16/20\n",
            "17/17 [==============================] - 0s 4ms/step - loss: 0.5453 - binary_accuracy: 0.7386 - val_loss: 0.5716 - val_binary_accuracy: 0.7094\n",
            "Epoch 17/20\n",
            "17/17 [==============================] - 0s 4ms/step - loss: 0.5406 - binary_accuracy: 0.7453 - val_loss: 0.5739 - val_binary_accuracy: 0.7132\n",
            "Epoch 18/20\n",
            "17/17 [==============================] - 0s 4ms/step - loss: 0.5395 - binary_accuracy: 0.7339 - val_loss: 0.5643 - val_binary_accuracy: 0.7057\n",
            "Epoch 19/20\n",
            "17/17 [==============================] - 0s 5ms/step - loss: 0.5394 - binary_accuracy: 0.7311 - val_loss: 0.5657 - val_binary_accuracy: 0.7283\n",
            "Epoch 20/20\n",
            "17/17 [==============================] - 0s 4ms/step - loss: 0.5330 - binary_accuracy: 0.7405 - val_loss: 0.5683 - val_binary_accuracy: 0.7094\n",
            "11/11 [==============================] - 0s 5ms/step - loss: 0.5637 - binary_accuracy: 0.6949\n",
            "Test Loss: 0.5637385249137878\n",
            "Test Accuracy: 0.69486403465271\n"
          ]
        }
      ]
    },
    {
      "cell_type": "code",
      "source": [
        "import numpy as np\n",
        "import matplotlib.pyplot as plt\n",
        "import seaborn as sns\n",
        "\n",
        "# Função para plotar matriz de confusão\n",
        "def plot_confusion_matrix(cm, labels):\n",
        "    plt.figure(figsize=(6, 6))\n",
        "    sns.heatmap(cm, annot=True, fmt='d', cmap='Blues', cbar=False)\n",
        "    plt.xticks(np.arange(len(labels)), labels)\n",
        "    plt.yticks(np.arange(len(labels)), labels)\n",
        "    plt.xlabel('Predicted')\n",
        "    plt.ylabel('True')\n",
        "    plt.title('Confusion Matrix')\n",
        "\n",
        "# Obtendo as previsões no conjunto de teste\n",
        "y_pred_probs = model.predict(X_test)\n",
        "y_pred = np.round(y_pred_probs).astype(int)\n",
        "\n",
        "# Calculando a matriz de confusão\n",
        "cm = confusion_matrix(y_test, y_pred)\n",
        "\n",
        "# Invertendo a ordem das classes\n",
        "cm = np.flip(cm, axis=0)\n",
        "cm = np.flip(cm, axis=1)\n",
        "\n",
        "# Definindo as classes invertidas\n",
        "labels = ['Positive', 'Negative']\n",
        "\n",
        "# Plotando a matriz de confusão\n",
        "plot_confusion_matrix(cm, labels)\n",
        "plt.show()\n"
      ],
      "metadata": {
        "colab": {
          "base_uri": "https://localhost:8080/",
          "height": 587
        },
        "id": "OFi7lZaKDw0V",
        "outputId": "0a3b80ff-3927-4fba-b8b7-fa9b7867b06c"
      },
      "execution_count": 27,
      "outputs": [
        {
          "output_type": "stream",
          "name": "stdout",
          "text": [
            "11/11 [==============================] - 0s 7ms/step\n"
          ]
        },
        {
          "output_type": "display_data",
          "data": {
            "text/plain": [
              "<Figure size 600x600 with 1 Axes>"
            ],
            "image/png": "[encoded data removed]"
          },
          "metadata": {}
        }
      ]
    },
    {
      "cell_type": "code",
      "source": [],
      "metadata": {
        "id": "vcSymcuED6yU"
      },
      "execution_count": null,
      "outputs": []
    }
  ]
}